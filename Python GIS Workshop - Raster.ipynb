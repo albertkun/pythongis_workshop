{
 "cells": [
  {
   "cell_type": "code",
   "execution_count": 5,
   "metadata": {},
   "outputs": [],
   "source": [
    "import sys, struct, matplotlib\n",
    "from osgeo import gdal\n",
    "from osgeo import gdalconst"
   ]
  },
  {
   "cell_type": "code",
   "execution_count": 4,
   "metadata": {},
   "outputs": [
    {
     "name": "stdout",
     "output_type": "stream",
     "text": [
      "[[939.6766   897.03894  860.9614   ... 500.24078  500.24374  500.24673 ]\n",
      " [890.4711   864.2335   821.59607  ... 473.99625  490.39923  477.28223 ]\n",
      " [837.9857   821.5882   785.5106   ... 437.9117   460.87473  460.8777  ]\n",
      " ...\n",
      " [  0.         0.         0.       ... -77.88603  -58.20292  -58.199818]\n",
      " [  0.         0.         0.       ... -74.61048  -74.607376 -71.32426 ]\n",
      " [  0.         0.         0.       ... -71.33492  -68.05182  -74.6087  ]]\n"
     ]
    }
   ],
   "source": [
    "dataset = gdal.Open(\"./la_coast.tif\")\n",
    "band = dataset.GetRasterBand(1)\n",
    "elev_array_m = band.ReadAsArray()\n",
    "elev_array_f = elev_array_m * 3.28\n",
    "print(elev_array_f)"
   ]
  },
  {
   "cell_type": "code",
   "execution_count": null,
   "metadata": {},
   "outputs": [],
   "source": []
  }
 ],
 "metadata": {
  "kernelspec": {
   "display_name": "Python 3",
   "language": "python",
   "name": "python3"
  },
  "language_info": {
   "codemirror_mode": {
    "name": "ipython",
    "version": 3
   },
   "file_extension": ".py",
   "mimetype": "text/x-python",
   "name": "python",
   "nbconvert_exporter": "python",
   "pygments_lexer": "ipython3",
   "version": "3.7.3"
  }
 },
 "nbformat": 4,
 "nbformat_minor": 2
}
