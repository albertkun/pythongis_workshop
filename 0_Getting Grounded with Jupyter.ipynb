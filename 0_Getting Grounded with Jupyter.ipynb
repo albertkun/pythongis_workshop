{
 "cells": [
  {
   "cell_type": "markdown",
   "metadata": {
    "slideshow": {
     "slide_type": "skip"
    },
    "toc": true
   },
   "source": [
    "<h1>Table of Contents<span class=\"tocSkip\"></span></h1>\n",
    "<div class=\"toc\"><ul class=\"toc-item\"><li><span><a href=\"#Jupyter-Notebooks\" data-toc-modified-id=\"Jupyter-Notebooks-1\"><span class=\"toc-item-num\">1&nbsp;&nbsp;</span>Jupyter Notebooks</a></span></li><li><span><a href=\"#Clone-the-workshop-repository:\" data-toc-modified-id=\"Clone-the-workshop-repository:-2\"><span class=\"toc-item-num\">2&nbsp;&nbsp;</span>Clone the workshop repository:</a></span><ul class=\"toc-item\"><li><span><a href=\"#Setting-up-the-Azure-Jupyter-Notebook\" data-toc-modified-id=\"Setting-up-the-Azure-Jupyter-Notebook-2.1\"><span class=\"toc-item-num\">2.1&nbsp;&nbsp;</span>Setting up the Azure Jupyter Notebook</a></span></li></ul></li><li><span><a href=\"#About-Jupyter\" data-toc-modified-id=\"About-Jupyter-3\"><span class=\"toc-item-num\">3&nbsp;&nbsp;</span>About Jupyter</a></span><ul class=\"toc-item\"><li><span><a href=\"#Exercise:-Delete-the-following-cell,-add-one-markdown-cell-and-one-code-cell-below.\" data-toc-modified-id=\"Exercise:-Delete-the-following-cell,-add-one-markdown-cell-and-one-code-cell-below.-3.1\"><span class=\"toc-item-num\">3.1&nbsp;&nbsp;</span><em>Exercise: Delete the following cell, add one markdown cell and one code cell below.</em></a></span></li></ul></li><li><span><a href=\"#Saving-and-sharing-notebooks\" data-toc-modified-id=\"Saving-and-sharing-notebooks-4\"><span class=\"toc-item-num\">4&nbsp;&nbsp;</span>Saving and sharing notebooks</a></span><ul class=\"toc-item\"><li><span><a href=\"#Required-packages-are-saved-in-a-file:\" data-toc-modified-id=\"Required-packages-are-saved-in-a-file:-4.1\"><span class=\"toc-item-num\">4.1&nbsp;&nbsp;</span>Required <strong>packages</strong> are saved in a file:</a></span></li><li><span><a href=\"#To-install-the-required-packages\" data-toc-modified-id=\"To-install-the-required-packages-4.2\"><span class=\"toc-item-num\">4.2&nbsp;&nbsp;</span>To install the required <strong>packages</strong></a></span></li></ul></li></ul></div>"
   ]
  },
  {
   "cell_type": "markdown",
   "metadata": {
    "slideshow": {
     "slide_type": "slide"
    }
   },
   "source": [
    "# Welcome to Jupyter"
   ]
  },
  {
   "cell_type": "markdown",
   "metadata": {
    "slideshow": {
     "slide_type": "subslide"
    }
   },
   "source": [
    "This workshop will be using Jupyter notebooks on the Azure cloud to teach about Python and GIS."
   ]
  },
  {
   "cell_type": "markdown",
   "metadata": {
    "slideshow": {
     "slide_type": "slide"
    }
   },
   "source": [
    "## Jupyter Notebooks"
   ]
  },
  {
   "cell_type": "markdown",
   "metadata": {
    "slideshow": {
     "slide_type": "subslide"
    }
   },
   "source": [
    "\n",
    "1) __Cloud-based__:   \n",
    "    - Azure Cloud (Microsoft)\n",
    "    - Collabortory (Google)\n",
    "    - MyBinder (non-profit)\n",
    "    - JupyterHub at IDRE (UCLA)\n",
    "\n"
   ]
  },
  {
   "cell_type": "markdown",
   "metadata": {
    "slideshow": {
     "slide_type": "subslide"
    }
   },
   "source": [
    "2) __Locally__:   \n",
    "    - Anaconda\n",
    "    - Miniconda\n",
    "    - Python "
   ]
  },
  {
   "cell_type": "markdown",
   "metadata": {
    "slideshow": {
     "slide_type": "slide"
    }
   },
   "source": [
    "## Clone the workshop repository:   \n",
    "https://notebooks.azure.com/albertkun/projects/pythongis-workshop"
   ]
  },
  {
   "cell_type": "markdown",
   "metadata": {
    "slideshow": {
     "slide_type": "subslide"
    }
   },
   "source": [
    "This workshop will be run on the Azure cloud based notebook service."
   ]
  },
  {
   "cell_type": "markdown",
   "metadata": {
    "slideshow": {
     "slide_type": "slide"
    }
   },
   "source": [
    "### Setting up the Azure Jupyter Notebook"
   ]
  },
  {
   "cell_type": "markdown",
   "metadata": {
    "slideshow": {
     "slide_type": "subslide"
    }
   },
   "source": [
    "After clicking the link, click on the `clone` button."
   ]
  },
  {
   "cell_type": "markdown",
   "metadata": {
    "slideshow": {
     "slide_type": "subslide"
    }
   },
   "source": [
    "You will be asked to sign in with a Microsoft account, please use your `username@ad.ucla.edu` otherwise feel free to sign-up for an account or download the repository to run on another cloud service/locally."
   ]
  },
  {
   "cell_type": "markdown",
   "metadata": {
    "slideshow": {
     "slide_type": "subslide"
    }
   },
   "source": [
    "__There will be 4 modules:__   \n",
    "-    Introducing Python and GIS   \n",
    "-    Shaping our shapefiles    \n",
    "-    Going Folium Circle   \n",
    "-    Case Study: Automating Raster Analysis   "
   ]
  },
  {
   "cell_type": "markdown",
   "metadata": {
    "slideshow": {
     "slide_type": "slide"
    }
   },
   "source": [
    "## About Jupyter"
   ]
  },
  {
   "cell_type": "markdown",
   "metadata": {
    "slideshow": {
     "slide_type": "subslide"
    }
   },
   "source": [
    "Not just a planet with many moons or a Greek God, Jupyter Notebooks allow you to annotate, share, and run code in an interactive environment."
   ]
  },
  {
   "cell_type": "markdown",
   "metadata": {
    "slideshow": {
     "slide_type": "subslide"
    }
   },
   "source": [
    "Jupyter Notebooks are composed of `cells` and run through a `kernel`."
   ]
  },
  {
   "cell_type": "markdown",
   "metadata": {
    "slideshow": {
     "slide_type": "subslide"
    }
   },
   "source": [
    "Each cell can be changed to represent `code`, `markdown`, or `rawnb` format, and the `kernel` is what executes the code in the cells."
   ]
  },
  {
   "cell_type": "markdown",
   "metadata": {
    "slideshow": {
     "slide_type": "subslide"
    }
   },
   "source": [
    "### _Exercise: Delete the following cell, add one markdown cell and one code cell below._"
   ]
  },
  {
   "cell_type": "raw",
   "metadata": {
    "slideshow": {
     "slide_type": "fragment"
    }
   },
   "source": [
    "DELETE ME"
   ]
  },
  {
   "cell_type": "markdown",
   "metadata": {
    "slideshow": {
     "slide_type": "slide"
    }
   },
   "source": [
    "## Saving and sharing notebooks"
   ]
  },
  {
   "cell_type": "markdown",
   "metadata": {
    "slideshow": {
     "slide_type": "subslide"
    }
   },
   "source": [
    "Jupyter notebooks have a `.ipynb` extension and can be shared.   \n",
    "\n",
    "However, just sharing a notebook won't gurantee it will run."
   ]
  },
  {
   "cell_type": "markdown",
   "metadata": {
    "slideshow": {
     "slide_type": "subslide"
    }
   },
   "source": [
    "Sharing information about the required packages/libraries and the data is necessary."
   ]
  },
  {
   "cell_type": "markdown",
   "metadata": {
    "slideshow": {
     "slide_type": "slide"
    }
   },
   "source": [
    "### Required __packages__ are saved in a file:  "
   ]
  },
  {
   "cell_type": "markdown",
   "metadata": {
    "slideshow": {
     "slide_type": "fragment"
    }
   },
   "source": [
    "- Python: __requirements.txt__   \n",
    "    -`pip freeze > requirements.txt`    \n",
    "__OR__\n",
    "- For Anaconda: __environment.yml__  \n",
    "    -`conda env export > environment.yml`"
   ]
  },
  {
   "cell_type": "markdown",
   "metadata": {
    "slideshow": {
     "slide_type": "slide"
    }
   },
   "source": [
    "### To install the required __packages__"
   ]
  },
  {
   "cell_type": "markdown",
   "metadata": {
    "slideshow": {
     "slide_type": "fragment"
    }
   },
   "source": [
    "Run in a terminal (not the interpreter!)\n",
    "- Python \n",
    "    - `pip install -r requirements.txt`    \n",
    "    __OR__\n",
    "- Conda    \n",
    "    - `conda install environment.yml`"
   ]
  },
  {
   "cell_type": "markdown",
   "metadata": {
    "slideshow": {
     "slide_type": "fragment"
    }
   },
   "source": [
    "You can run these commands in these Jupyter Notebook by adding `!` in front, for example:      \n",
    "    __`!pip install -r requirements.txt`__"
   ]
  },
  {
   "cell_type": "markdown",
   "metadata": {
    "slideshow": {
     "slide_type": "subslide"
    }
   },
   "source": [
    "When you save your environment and notebook file, you can share them by sending the file or link."
   ]
  },
  {
   "cell_type": "markdown",
   "metadata": {
    "slideshow": {
     "slide_type": "subslide"
    }
   },
   "source": [
    "Now that you are able to save and share notebooks, we can proceed to working with GIS!"
   ]
  },
  {
   "cell_type": "markdown",
   "metadata": {
    "slideshow": {
     "slide_type": "subslide"
    }
   },
   "source": [
    "Note: Most Jupyter notebooks support `Python 2`, `Python 3`, `R`, and a couple other languages. More languages are being added as demand grows."
   ]
  }
 ],
 "metadata": {
  "celltoolbar": "Slideshow",
  "kernelspec": {
   "display_name": "Python 3",
   "language": "python",
   "name": "python3"
  },
  "language_info": {
   "codemirror_mode": {
    "name": "ipython",
    "version": 3
   },
   "file_extension": ".py",
   "mimetype": "text/x-python",
   "name": "python",
   "nbconvert_exporter": "python",
   "pygments_lexer": "ipython3",
   "version": "3.7.3"
  },
  "toc": {
   "base_numbering": 1,
   "nav_menu": {},
   "number_sections": true,
   "sideBar": true,
   "skip_h1_title": true,
   "title_cell": "Table of Contents",
   "title_sidebar": "Contents",
   "toc_cell": true,
   "toc_position": {},
   "toc_section_display": true,
   "toc_window_display": false
  }
 },
 "nbformat": 4,
 "nbformat_minor": 2
}
