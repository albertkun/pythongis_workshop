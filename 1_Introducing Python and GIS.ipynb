{
 "cells": [
  {
   "cell_type": "markdown",
   "metadata": {
    "slideshow": {
     "slide_type": "skip"
    },
    "toc": true
   },
   "source": [
    "<h1>Table of Contents<span class=\"tocSkip\"></span></h1>\n",
    "<div class=\"toc\"><ul class=\"toc-item\"><li><span><a href=\"#Working-with-Geospatial-Data\" data-toc-modified-id=\"Working-with-Geospatial-Data-1\"><span class=\"toc-item-num\">1&nbsp;&nbsp;</span>Working with Geospatial Data</a></span><ul class=\"toc-item\"><li><span><a href=\"#Geospatial-Data-Handling-in-Python\" data-toc-modified-id=\"Geospatial-Data-Handling-in-Python-1.1\"><span class=\"toc-item-num\">1.1&nbsp;&nbsp;</span>Geospatial Data Handling in Python</a></span></li><li><span><a href=\"#Loading-geospatial-data\" data-toc-modified-id=\"Loading-geospatial-data-1.2\"><span class=\"toc-item-num\">1.2&nbsp;&nbsp;</span>Loading geospatial data</a></span></li></ul></li><li><span><a href=\"#Examining-geodata-with-GeoPandas\" data-toc-modified-id=\"Examining-geodata-with-GeoPandas-2\"><span class=\"toc-item-num\">2&nbsp;&nbsp;</span>Examining geodata with GeoPandas</a></span><ul class=\"toc-item\"><li><span><a href=\"#What-the-DF\" data-toc-modified-id=\"What-the-DF-2.1\"><span class=\"toc-item-num\">2.1&nbsp;&nbsp;</span>What the DF</a></span></li><li><span><a href=\"#Getting-used-to-(geo)-dataframes\" data-toc-modified-id=\"Getting-used-to-(geo)-dataframes-2.2\"><span class=\"toc-item-num\">2.2&nbsp;&nbsp;</span>Getting used to (geo) dataframes</a></span></li><li><span><a href=\"#Visualizing-geospatial-data-using-matplotlib\" data-toc-modified-id=\"Visualizing-geospatial-data-using-matplotlib-2.3\"><span class=\"toc-item-num\">2.3&nbsp;&nbsp;</span>Visualizing geospatial data using matplotlib</a></span></li><li><span><a href=\"#Mapping-our-geodata(frame)\" data-toc-modified-id=\"Mapping-our-geodata(frame)-2.4\"><span class=\"toc-item-num\">2.4&nbsp;&nbsp;</span>Mapping our geodata(frame)</a></span></li></ul></li><li><span><a href=\"#Interactive-Mapping-with-Folium\" data-toc-modified-id=\"Interactive-Mapping-with-Folium-3\"><span class=\"toc-item-num\">3&nbsp;&nbsp;</span>Interactive Mapping with Folium</a></span><ul class=\"toc-item\"><li><span><a href=\"#Calculating-the-map-center\" data-toc-modified-id=\"Calculating-the-map-center-3.1\"><span class=\"toc-item-num\">3.1&nbsp;&nbsp;</span>Calculating the map center</a></span></li><li><span><a href=\"#Creating-a-folium-map\" data-toc-modified-id=\"Creating-a-folium-map-3.2\"><span class=\"toc-item-num\">3.2&nbsp;&nbsp;</span>Creating a folium map</a></span></li></ul></li></ul></div>"
   ]
  },
  {
   "cell_type": "markdown",
   "metadata": {
    "slideshow": {
     "slide_type": "slide"
    }
   },
   "source": [
    "# Introducing Python and GIS\n"
   ]
  },
  {
   "cell_type": "markdown",
   "metadata": {
    "slideshow": {
     "slide_type": "subslide"
    }
   },
   "source": [
    "__Objectives:__  \n",
    "  * Import geospatial libraries\n",
    "  * Open shapefiles with Python\n",
    "  * Interrogate data tables\n",
    "  * Display shapefiles"
   ]
  },
  {
   "attachments": {
    "RasterandVector.png": {
     "image/png": "[encoded data removed]"
    }
   },
   "cell_type": "markdown",
   "metadata": {
    "slideshow": {
     "slide_type": "slide"
    }
   },
   "source": [
    "## Working with Geospatial Data\n",
    "Python has several popular libraries to work with geospatial data types.\n",
    "\n",
    "There are two types of spatial data types:\n",
    "\n",
    "![RasterandVector.png](attachment:RasterandVector.png)"
   ]
  },
  {
   "cell_type": "markdown",
   "metadata": {
    "slideshow": {
     "slide_type": "subslide"
    }
   },
   "source": [
    "### Geospatial Data Handling in Python\n",
    "\n",
    "__For vector data we will use:__\n",
    "\n",
    "[GeoPandas](http://geopandas.org/)  \n",
    "\n",
    "__For raster data we will use:__  \n",
    "[Rasterio](https://rasterio.readthedocs.io/en/stable/intro.html)\n"
   ]
  },
  {
   "cell_type": "markdown",
   "metadata": {
    "slideshow": {
     "slide_type": "subslide"
    }
   },
   "source": [
    "__For both geospatial data types we will use:__  \n",
    "- GDAL - Handles all GIS processing  \n",
    "- Matplotlib - For plotting map data  \n",
    "- Numpy - For interacting with data    \n",
    "- Folium - For interactive mapping"
   ]
  },
  {
   "cell_type": "markdown",
   "metadata": {
    "slideshow": {
     "slide_type": "subslide"
    }
   },
   "source": [
    "\n",
    "`GDAL` is necessary for interacting with geospatial data, while `matplotlib` and `numpy` are Python tools that can work with geospatial data once it has been loaded in. `Folium` is used for interactive mapping in Jupyter Notebooks.\n"
   ]
  },
  {
   "cell_type": "markdown",
   "metadata": {
    "slideshow": {
     "slide_type": "slide"
    }
   },
   "source": [
    "### Loading geospatial data "
   ]
  },
  {
   "cell_type": "markdown",
   "metadata": {
    "slideshow": {
     "slide_type": "subslide"
    }
   },
   "source": [
    "Lets start by loading a shapefile!  \n",
    "\n",
    "We will begin by importing `gdal` and `geopandas` libraries for working with the data.\n",
    "\n",
    "Also bring in `matplotlib` and `folium` so we can show our map."
   ]
  },
  {
   "cell_type": "code",
   "execution_count": null,
   "metadata": {
    "slideshow": {
     "slide_type": "subslide"
    }
   },
   "outputs": [],
   "source": [
    "# make sure we have all our Python library requirements\n",
    "!pip install -r requirements.txt\n",
    "\n",
    "#import our libraries\n",
    "import geopandas as gpd\n",
    "import pandas as pd\n",
    "import matplotlib.pyplot as plt\n",
    "import folium\n",
    "\n",
    "#these are optional, but make our tables look nice\n",
    "from IPython.display import display, HTML\n",
    "from pandas.plotting import table"
   ]
  },
  {
   "cell_type": "markdown",
   "metadata": {
    "slideshow": {
     "slide_type": "subslide"
    }
   },
   "source": [
    "The command to open a file in `geopandas` is:  \n",
    "```gdf = gpd.read_file('PATH_TO_YOUR_DATA')```"
   ]
  },
  {
   "cell_type": "markdown",
   "metadata": {
    "slideshow": {
     "slide_type": "subslide"
    }
   },
   "source": [
    "Our path will look like this:  \n",
    "        ```gdf = gpd.read_file(\"./data/shapefiles/LA_City_Neighborhood_Council_Demographics.shp\")```"
   ]
  },
  {
   "cell_type": "markdown",
   "metadata": {
    "slideshow": {
     "slide_type": "slide"
    }
   },
   "source": [
    "## Examining geodata with GeoPandas"
   ]
  },
  {
   "cell_type": "markdown",
   "metadata": {
    "slideshow": {
     "slide_type": "slide"
    }
   },
   "source": [
    "The easiest way to get from a file to a quick visualization of the data is by loading it as a `GeoDataFrame` and calling the `plot` command."
   ]
  },
  {
   "cell_type": "markdown",
   "metadata": {
    "slideshow": {
     "slide_type": "slide"
    }
   },
   "source": [
    "### What the DF\n",
    "\n",
    "Dataframes (df) are `Pandas'` way of breaking down tables into views. Think of them as mini Excel Sheets or workbooks. The key benefit is that each time you want to see part of the data, you can select it into a data frame instead of working with the entire data. `GeoPandas` takes `Pandas` functionality and adds geospatial ability to analyze and process those frames as geodataframes (gdf)."
   ]
  },
  {
   "cell_type": "code",
   "execution_count": null,
   "metadata": {
    "scrolled": true,
    "slideshow": {
     "slide_type": "subslide"
    }
   },
   "outputs": [],
   "source": [
    "gdf = gpd.read_file(\"./data/shapefiles/LA_City_Neighborhood_Council_Demographics.shp\")\n",
    "data = gdf\n",
    "## Our data is big, so we can preview it using ##\n",
    "print(data.head())\n",
    "\n",
    "## We can also see what columns there are ##\n",
    "# for column in data.columns:\n",
    "#     print(column)"
   ]
  },
  {
   "cell_type": "markdown",
   "metadata": {
    "slideshow": {
     "slide_type": "subslide"
    }
   },
   "source": [
    "### Getting used to (geo) dataframes\n",
    "\n",
    "- Let's select `female` and `male` demographic data with a `.loc[]` reference and then `describe()` it.\n",
    "\n",
    "- Display the described data nicely using `display(HTML)` from Jupyter."
   ]
  },
  {
   "cell_type": "code",
   "execution_count": null,
   "metadata": {
    "scrolled": true,
    "slideshow": {
     "slide_type": "fragment"
    }
   },
   "outputs": [],
   "source": [
    "sex_subset = gdf.loc[:,['female','male','geometry']]\n",
    "desc = sex_subset.describe()\n",
    "display(HTML(desc.round(2).to_html()))"
   ]
  },
  {
   "cell_type": "markdown",
   "metadata": {},
   "source": [
    "### Visualizing geospatial data using matplotlib"
   ]
  },
  {
   "cell_type": "markdown",
   "metadata": {
    "slideshow": {
     "slide_type": "subslide"
    }
   },
   "source": [
    " __Now we will graph our geodataframe using `matplotlib`__"
   ]
  },
  {
   "cell_type": "code",
   "execution_count": null,
   "metadata": {
    "scrolled": false,
    "slideshow": {
     "slide_type": "subslide"
    }
   },
   "outputs": [],
   "source": [
    "data_to_plot = sex_subset\n",
    "# print(sex_subset.describe())\n",
    "# Create a figure instance\n",
    "fig = plt.figure()\n",
    "df = pd.DataFrame(sex_subset.loc[:,['female']])\n",
    "df2 = pd.DataFrame(sex_subset.loc[:,['male']])\n",
    "\n",
    "df.plot(style=['o','ro'])\n",
    "df2.plot(style='ro')"
   ]
  },
  {
   "cell_type": "markdown",
   "metadata": {
    "slideshow": {
     "slide_type": "subslide"
    }
   },
   "source": [
    "### Mapping our geodata(frame)"
   ]
  },
  {
   "cell_type": "markdown",
   "metadata": {
    "slideshow": {
     "slide_type": "subslide"
    }
   },
   "source": [
    "Having a __geodataframe__ makes our data plottable as a map, through the very simple `gdf.plot()` function.   \n",
    "\n",
    "This functionality begins to showcase how `geopandas` is different from `pandas`.\n",
    "\n",
    "*Note: We have to specify a `figsize` (figure size) in `(width,height)` otherwise our map won't know how big to display.*"
   ]
  },
  {
   "cell_type": "code",
   "execution_count": null,
   "metadata": {
    "scrolled": true,
    "slideshow": {
     "slide_type": "subslide"
    }
   },
   "outputs": [],
   "source": [
    "gdf.plot(figsize=(5,5))"
   ]
  },
  {
   "cell_type": "markdown",
   "metadata": {
    "slideshow": {
     "slide_type": "subslide"
    }
   },
   "source": [
    "What happens if you want to add a legend or style the map more?"
   ]
  },
  {
   "cell_type": "markdown",
   "metadata": {
    "slideshow": {
     "slide_type": "fragment"
    }
   },
   "source": [
    "Because __`geopandas`__ is built ontop of __`pandas`__"
   ]
  },
  {
   "cell_type": "markdown",
   "metadata": {
    "slideshow": {
     "slide_type": "fragment"
    }
   },
   "source": [
    "And __`pandas`__ is built ontop of __`matplotlib`__..."
   ]
  },
  {
   "cell_type": "markdown",
   "metadata": {
    "slideshow": {
     "slide_type": "fragment"
    }
   },
   "source": [
    "__`matplotlib`__ is required to customize our map."
   ]
  },
  {
   "cell_type": "markdown",
   "metadata": {
    "slideshow": {
     "slide_type": "slide"
    }
   },
   "source": [
    "Instead of relying on the geopandas wrapper, `__plot()__` needs to be tweaked a bit to enable __`matplotlib`__ to customize."
   ]
  },
  {
   "cell_type": "code",
   "execution_count": null,
   "metadata": {
    "slideshow": {
     "slide_type": "subslide"
    }
   },
   "outputs": [],
   "source": [
    "# add a figure and axis variable, and use matplotlib (plt) to define it\n",
    "fig, ax = plt.subplots(1, 1)\n",
    "gdf.plot(ax=ax)"
   ]
  },
  {
   "cell_type": "markdown",
   "metadata": {},
   "source": [
    "__Various parameters customize the plot:__   \n",
    "+      __column__ - creates a choropleth from one column of data (ex. `female`)   \n",
    "+      __legend__ - shows a legend (ex. `True` or `False`)  \n",
    "+      __cmap__ - uses a color map (ex. `copper`)  "
   ]
  },
  {
   "cell_type": "code",
   "execution_count": null,
   "metadata": {
    "slideshow": {
     "slide_type": "subslide"
    }
   },
   "outputs": [],
   "source": [
    "fig, ax = plt.subplots(1)\n",
    "# to add a title we use\n",
    "fig.suptitle('Los Angeles City Female Population')\n",
    "\n",
    "# we can also specify a column to make our map into a choropleth\n",
    "gdf.plot(ax=ax,column='female',legend=True,cmap='copper_r')"
   ]
  },
  {
   "cell_type": "markdown",
   "metadata": {
    "slideshow": {
     "slide_type": "slide"
    }
   },
   "source": [
    "## Interactive Mapping with Folium"
   ]
  },
  {
   "cell_type": "markdown",
   "metadata": {
    "slideshow": {
     "slide_type": "slide"
    }
   },
   "source": [
    "Now lets use folium to map data!"
   ]
  },
  {
   "cell_type": "markdown",
   "metadata": {},
   "source": [
    "### Calculating the map center  \n",
    "__Why is a map center necessary?__  \n",
    "__`matplotlib`'s__`plot` function only shows the data, while __`folium`__ shows the world, so we want to make sure our map is centered properly."
   ]
  },
  {
   "cell_type": "markdown",
   "metadata": {
    "slideshow": {
     "slide_type": "subslide"
    }
   },
   "source": [
    "We will still be using our female/male dataframe (`sex_subset`), but we want to be sure it is projected correctly and use the geographic center of the dataset as the center for our map.\n",
    "\n",
    " `our_subset.to_crs(epsg='4326')` reprojects our data.  \n",
    " \n",
    " `our_data.total_bounds` will then give us the boundaries of our data set as a pair of two `[x,y]` coordinates.\n",
    " "
   ]
  },
  {
   "cell_type": "code",
   "execution_count": null,
   "metadata": {
    "slideshow": {
     "slide_type": "subslide"
    }
   },
   "outputs": [],
   "source": [
    "la_crop_extent = sex_subset.to_crs(epsg='4326')\n",
    "\n",
    "map_center = sex_subset.total_bounds\n",
    "\n",
    "# We get the average of the map_center for the x and y values\n",
    "x_center = (map_center[0]+map_center[2])/2\n",
    "y_center = (map_center[1]+map_center[3])/2\n",
    "\n",
    "# We can print the values here to check\n",
    "print(x_center,y_center)"
   ]
  },
  {
   "cell_type": "markdown",
   "metadata": {
    "slideshow": {
     "slide_type": "subslide"
    }
   },
   "source": [
    "### Creating a folium map"
   ]
  },
  {
   "cell_type": "markdown",
   "metadata": {
    "slideshow": {
     "slide_type": "subslide"
    }
   },
   "source": [
    "After getting the map center, we will then create our __`folium`__ map centered around those values.\n",
    "\n",
    "Since our `sex_subset` is a geodataframe, we can translate it to a `json()` and have it easily shown in __`folium`__. \n",
    "\n",
    "We can (and will!) visualize our data as a geodataframe in __`folium`__ but the code will be covered later. "
   ]
  },
  {
   "cell_type": "code",
   "execution_count": null,
   "metadata": {
    "slideshow": {
     "slide_type": "subslide"
    }
   },
   "outputs": [],
   "source": [
    "# create our map and feed the location our center values\n",
    "fmap = folium.Map(location=[FILL_IN_LATITUDE_CENTER_HERE, FILL_IN_LONGITUDE_CENTER], \n",
    "                    tiles='cartodbpositron',\n",
    "                    zoom_start=9,\n",
    "                    control_scale=True)\n",
    "\n",
    "# convert our geodataframe into geojson\n",
    "sex_subset_json = sex_subset.to_crs(epsg='4326').to_json()\n",
    "polygons = folium.features.GeoJson(sex_subset_json)\n",
    "\n",
    "# add the geojson polygons to the map\n",
    "fmap.add_child(polygons)\n",
    "# show the map\n",
    "fmap"
   ]
  }
 ],
 "metadata": {
  "celltoolbar": "Slideshow",
  "kernelspec": {
   "display_name": "Python 3",
   "language": "python",
   "name": "python3"
  },
  "language_info": {
   "codemirror_mode": {
    "name": "ipython",
    "version": 3
   },
   "file_extension": ".py",
   "mimetype": "text/x-python",
   "name": "python",
   "nbconvert_exporter": "python",
   "pygments_lexer": "ipython3",
   "version": "3.7.3"
  },
  "livereveal": {
   "theme": "sky"
  },
  "toc": {
   "base_numbering": 1,
   "nav_menu": {},
   "number_sections": true,
   "sideBar": true,
   "skip_h1_title": true,
   "title_cell": "Table of Contents",
   "title_sidebar": "Contents",
   "toc_cell": true,
   "toc_position": {},
   "toc_section_display": true,
   "toc_window_display": false
  }
 },
 "nbformat": 4,
 "nbformat_minor": 1
}
