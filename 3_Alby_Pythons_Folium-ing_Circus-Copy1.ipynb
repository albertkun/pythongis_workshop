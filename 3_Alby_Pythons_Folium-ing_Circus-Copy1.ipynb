{
 "cells": [
  {
   "cell_type": "markdown",
   "metadata": {
    "slideshow": {
     "slide_type": "skip"
    },
    "toc": true
   },
   "source": [
    "<h1>Table of Contents<span class=\"tocSkip\"></span></h1>\n",
    "<div class=\"toc\"><ul class=\"toc-item\"><li><span><a href=\"#Spatial-Joining-to-Counties\" data-toc-modified-id=\"Spatial-Joining-to-Counties-1\"><span class=\"toc-item-num\">1&nbsp;&nbsp;</span>Spatial Joining to Counties</a></span></li><li><span><a href=\"#Creating-a-map-with-Folium\" data-toc-modified-id=\"Creating-a-map-with-Folium-2\"><span class=\"toc-item-num\">2&nbsp;&nbsp;</span>Creating a map with Folium</a></span><ul class=\"toc-item\"><li><span><a href=\"#A-Folium-map-requires:\" data-toc-modified-id=\"A-Folium-map-requires:-2.1\"><span class=\"toc-item-num\">2.1&nbsp;&nbsp;</span>A Folium map requires:</a></span></li><li><span><a href=\"#Folium-Geodata-needs-these-attributes-:\" data-toc-modified-id=\"Folium-Geodata-needs-these-attributes-:-2.2\"><span class=\"toc-item-num\">2.2&nbsp;&nbsp;</span>Folium Geodata needs these attributes :</a></span></li><li><span><a href=\"#Calculating-the-map-center\" data-toc-modified-id=\"Calculating-the-map-center-2.3\"><span class=\"toc-item-num\">2.3&nbsp;&nbsp;</span>Calculating the map center</a></span></li><li><span><a href=\"#Creating-a-folium-map\" data-toc-modified-id=\"Creating-a-folium-map-2.4\"><span class=\"toc-item-num\">2.4&nbsp;&nbsp;</span>Creating a folium map</a></span></li><li><span><a href=\"#Save-the-Folium-Map\" data-toc-modified-id=\"Save-the-Folium-Map-2.5\"><span class=\"toc-item-num\">2.5&nbsp;&nbsp;</span>Save the Folium Map</a></span></li></ul></li><li><span><a href=\"#Creating-a-Histogram-Map-with-Folium\" data-toc-modified-id=\"Creating-a-Histogram-Map-with-Folium-3\"><span class=\"toc-item-num\">3&nbsp;&nbsp;</span>Creating a Histogram Map with Folium</a></span><ul class=\"toc-item\"><li><span><a href=\"#Geodata-for-Folium-Histogram-map\" data-toc-modified-id=\"Geodata-for-Folium-Histogram-map-3.1\"><span class=\"toc-item-num\">3.1&nbsp;&nbsp;</span>Geodata for Folium Histogram map</a></span><ul class=\"toc-item\"><li><span><a href=\"#Exercise:-How-can-we-check-our-geodata-frames-data?\" data-toc-modified-id=\"Exercise:-How-can-we-check-our-geodata-frames-data?-3.1.1\"><span class=\"toc-item-num\">3.1.1&nbsp;&nbsp;</span><em>Exercise</em>: How can we check our geodata frames data?</a></span></li></ul></li><li><span><a href=\"#folium.Choropleth-requires-these-parameters:\" data-toc-modified-id=\"folium.Choropleth-requires-these-parameters:-3.2\"><span class=\"toc-item-num\">3.2&nbsp;&nbsp;</span>folium.Choropleth requires these parameters:</a></span></li></ul></li><li><span><a href=\"#Adding-tooltips\" data-toc-modified-id=\"Adding-tooltips-4\"><span class=\"toc-item-num\">4&nbsp;&nbsp;</span>Adding tooltips</a></span></li><li><span><a href=\"#Congratulations!-You-are-done!!\" data-toc-modified-id=\"Congratulations!-You-are-done!!-5\"><span class=\"toc-item-num\">5&nbsp;&nbsp;</span>Congratulations! You are done!!</a></span><ul class=\"toc-item\"><li><span><a href=\"#Potential-Solution-#2\" data-toc-modified-id=\"Potential-Solution-#2-5.1\"><span class=\"toc-item-num\">5.1&nbsp;&nbsp;</span>Potential Solution #2</a></span></li></ul></li></ul></div>"
   ]
  },
  {
   "cell_type": "markdown",
   "metadata": {
    "slideshow": {
     "slide_type": "slide"
    }
   },
   "source": [
    "# Alby Pythons Folium Circus"
   ]
  },
  {
   "cell_type": "markdown",
   "metadata": {
    "slideshow": {
     "slide_type": "slide"
    }
   },
   "source": [
    "## Spatial Joining to Counties"
   ]
  },
  {
   "cell_type": "markdown",
   "metadata": {
    "slideshow": {
     "slide_type": "subslide"
    }
   },
   "source": [
    "Your web browser can only handle so much content, so creating a 8,000 polygon map with our EnviroScreen data is probably not a good idea! Our solution is to aggregate the data into bigger geographies, in this case __counties__."
   ]
  },
  {
   "cell_type": "markdown",
   "metadata": {
    "slideshow": {
     "slide_type": "subslide"
    }
   },
   "source": [
    " We will begin by reading in our data, convinently, the California county's shapefile is provided for you under `/data/shapefiles/CA_Counties_TIGER2016.shp`"
   ]
  },
  {
   "cell_type": "code",
   "execution_count": null,
   "metadata": {
    "slideshow": {
     "slide_type": "subslide"
    }
   },
   "outputs": [],
   "source": [
    "import geopandas as gpd\n",
    "import pandas as pd\n",
    "import numpy as np\n",
    "import matplotlib.pyplot as plt\n",
    "import folium\n",
    "\n",
    "# load our shapefiles\n",
    "eda_gdf = gpd.read_file(\"./data/shapefiles/CA_EDA_analysis.shp\")\n",
    "ca_counties_gdf = gpd.read_file(\"./data/shapefiles/CA_Counties_TIGER2016.shp\")\n",
    "\n",
    "# check the coordinate reference systems\n",
    "print(\"the crs for eda_gdf is {}\".format(eda_gdf.crs))\n",
    "print(\"the crs for ca_counties_gdf is {}\".format(ca_counties_gdf.crs))"
   ]
  },
  {
   "cell_type": "markdown",
   "metadata": {
    "slideshow": {
     "slide_type": "subslide"
    }
   },
   "source": [
    "Since the coordinate reference systems do not align, we have to convert one them using `gdf.to_crs`"
   ]
  },
  {
   "cell_type": "code",
   "execution_count": null,
   "metadata": {
    "scrolled": true,
    "slideshow": {
     "slide_type": "subslide"
    }
   },
   "outputs": [],
   "source": [
    "projected_ca_counties_gdf = ca_counties_gdf.to_crs({'init': 'epsg:3310'})\n",
    "\n",
    "spatial_join = gpd.sjoin(eda_gdf, projected_ca_counties_gdf, how=\"left\")\n",
    "dfpivot = pd.pivot_table(spatial_join,index='GEOID',columns='EDA_index')\n",
    "dfpivot.columns = dfpivot.columns.droplevel()\n",
    "dfpolynew = ca_counties_gdf.merge(dfpivot, how='left',on='GEOID')\n",
    "dfpolynew"
   ]
  },
  {
   "cell_type": "markdown",
   "metadata": {
    "slideshow": {
     "slide_type": "slide"
    }
   },
   "source": [
    "## Creating a map with Folium"
   ]
  },
  {
   "cell_type": "markdown",
   "metadata": {
    "slideshow": {
     "slide_type": "subslide"
    }
   },
   "source": [
    "With the join in place we can now start mapping with Folium!"
   ]
  },
  {
   "cell_type": "markdown",
   "metadata": {
    "slideshow": {
     "slide_type": "subslide"
    }
   },
   "source": [
    "### A Folium map requires:    \n",
    "    - A basemap (can choose from here)\n",
    "    - A geographic center\n",
    "    - Zoom level\n",
    "    - The WGS_1984 (EPSG=4326) Coordinate Reference System (CRS)"
   ]
  },
  {
   "cell_type": "markdown",
   "metadata": {
    "slideshow": {
     "slide_type": "subslide"
    }
   },
   "source": [
    "### Folium Geodata needs these attributes :\n",
    "    - Projected in the WGS_1984 (EPSG=4326) Coordinate Reference System (CRS)\n",
    "    - A geometry column and/or Latitude/Longitude"
   ]
  },
  {
   "cell_type": "markdown",
   "metadata": {
    "slideshow": {
     "slide_type": "subslide"
    }
   },
   "source": [
    "### Calculating the map center  \n",
    "__Why is a map center necessary?__  \n",
    "__`matplotlib`'s__`plot` function only shows the data, while __`folium`__ shows the world, so we want to make sure our map is centered properly."
   ]
  },
  {
   "cell_type": "markdown",
   "metadata": {
    "slideshow": {
     "slide_type": "subslide"
    }
   },
   "source": [
    "We will still be using our EDA data frame (`EDA_gdf`), but we want to be sure it is projected correctly and use the geographic center of the dataset as the center for our map.\n",
    "\n",
    " `our_subset.to_crs(epsg='4326')` reprojects our data.  \n",
    " \n",
    " `our_data.total_bounds` will then give us the boundaries of our data set as a pair of two `[x,y]` coordinates.\n",
    " "
   ]
  },
  {
   "cell_type": "code",
   "execution_count": null,
   "metadata": {
    "slideshow": {
     "slide_type": "subslide"
    }
   },
   "outputs": [],
   "source": [
    "ead_county = gpd.read_file(\"./data/shapefiles/Join_Output.shp\")\n",
    "ead_county_data = ead_county[['GEOID', 'Avg_EDA_in', 'geometry']]\n",
    "ead_county_data.simplify(tolerance=100).to_file(\"./data/ead_county.geojson\", driver=\"GeoJSON\")\n",
    "# smaller_data = gpd.read_file(\"./data/smaller.shp\")\n",
    "ca_crop_extent = ead_county.to_crs(epsg='4326')\n",
    "\n",
    "# ead_county['geometry'] = ead_county['geom_gen']\n",
    "map_bounds = ca_crop_extent.total_bounds\n",
    "print(map_bounds)\n",
    "# We get the average of the map_center for the x and y values\n",
    "x_center = (map_bounds[0]+map_bounds[2])/2\n",
    "y_center = (map_bounds[1]+map_bounds[3])/2\n",
    "\n",
    "# We can print the values here to check\n",
    "print(x_center,y_center)"
   ]
  },
  {
   "cell_type": "markdown",
   "metadata": {
    "slideshow": {
     "slide_type": "slide"
    }
   },
   "source": [
    "### Creating a folium map"
   ]
  },
  {
   "cell_type": "markdown",
   "metadata": {
    "slideshow": {
     "slide_type": "subslide"
    }
   },
   "source": [
    "After getting the map center, we will then create our __`folium`__ map centered around those values.\n",
    "\n",
    "Since our `ead_county` is a geodata frame, we can translate it to a `json()` and have it easily shown in __`folium`__. \n"
   ]
  },
  {
   "cell_type": "code",
   "execution_count": null,
   "metadata": {
    "slideshow": {
     "slide_type": "subslide"
    }
   },
   "outputs": [],
   "source": [
    "# create our map and feed the location our center values\n",
    "fmap = folium.Map(location=[y_center,x_center], \n",
    "                    tiles='cartodbpositron',\n",
    "                    zoom_start=6,\n",
    "                    control_scale=True)\n",
    "\n",
    "# convert our geodataframe into geojson\n",
    "ead_county_json = ead_county_data.simplify(tolerance=300).to_crs(epsg='4326').to_json()\n",
    "polygons = folium.features.GeoJson(ead_county_json)"
   ]
  },
  {
   "cell_type": "code",
   "execution_count": null,
   "metadata": {
    "slideshow": {
     "slide_type": "subslide"
    }
   },
   "outputs": [],
   "source": [
    "# add the geojson polygons to the map\n",
    "fmap.add_child(polygons)\n",
    "# show the map\n",
    "fmap"
   ]
  },
  {
   "cell_type": "markdown",
   "metadata": {
    "slideshow": {
     "slide_type": "slide"
    }
   },
   "source": [
    "###  Save the Folium Map"
   ]
  },
  {
   "cell_type": "code",
   "execution_count": null,
   "metadata": {
    "slideshow": {
     "slide_type": "subslide"
    }
   },
   "outputs": [],
   "source": [
    "outfp = \"results/choropleth_map.html\"\n",
    "fmap.save(outfp)"
   ]
  },
  {
   "cell_type": "markdown",
   "metadata": {
    "slideshow": {
     "slide_type": "subslide"
    }
   },
   "source": [
    "With our map visualized (except in Chrome browsers) we can now move onto the next step of creating a histogram!"
   ]
  },
  {
   "cell_type": "markdown",
   "metadata": {
    "slideshow": {
     "slide_type": "slide"
    }
   },
   "source": [
    "## Creating a Histogram Map with Folium"
   ]
  },
  {
   "cell_type": "markdown",
   "metadata": {
    "slideshow": {
     "slide_type": "subslide"
    }
   },
   "source": [
    "Instead of converting our geodata frame into a GeoJSON, we will directly use a geodata frame to populate our histogram map. There are a few more requirements to address when creating a map in this fashion though."
   ]
  },
  {
   "cell_type": "markdown",
   "metadata": {
    "slideshow": {
     "slide_type": "subslide"
    }
   },
   "source": [
    "### Geodata for Folium Histogram map\n",
    "    - Requires a unique identifier for each record, usually called 'geoid'\n",
    "    - Selecting a subset of the geodata frame improves performance"
   ]
  },
  {
   "cell_type": "markdown",
   "metadata": {
    "slideshow": {
     "slide_type": "subslide"
    }
   },
   "source": [
    "    - Projected in the WGS_1984 (EPSG=4326) Coordinate Reference System (CRS)\n",
    "    - A geometry column and/or Latitude/Longitude"
   ]
  },
  {
   "cell_type": "markdown",
   "metadata": {
    "slideshow": {
     "slide_type": "subslide"
    }
   },
   "source": [
    "#### _Exercise_: How can we check our geodata frames data?"
   ]
  },
  {
   "cell_type": "code",
   "execution_count": null,
   "metadata": {
    "slideshow": {
     "slide_type": "subslide"
    }
   },
   "outputs": [],
   "source": [
    "# Perform your check in this cell #\n",
    "ead_county.head()"
   ]
  },
  {
   "cell_type": "markdown",
   "metadata": {
    "slideshow": {
     "slide_type": "subslide"
    }
   },
   "source": [
    "Reading our data's head shows us that we already have a `geoid` column and a `geometry` column, so all we need to do is select a __subset of our data__ and re-assure that we are using the correct CRS `(EPSG=4326)`"
   ]
  },
  {
   "cell_type": "code",
   "execution_count": null,
   "metadata": {
    "scrolled": true,
    "slideshow": {
     "slide_type": "subslide"
    }
   },
   "outputs": [],
   "source": [
    "# create geoid\n",
    "ead_county['geoid'] = ead_county.index.astype(str)\n",
    "\n",
    "ead_county_data = ead_county[[\"geoid\", \"NAME\",'Avg_EDA_in','geometry']]\n",
    "# ead_county_data.rename(columns={'FID_1':'id'}, inplace=True)\n",
    "print(ead_county_data.head())\n",
    "# ead_county_data.to_crs({'init': 'epsg:4326'})\n",
    "# ead_county_data_json = ead_county_data.simplify(tolerance=300).to_crs(epsg='4326').to_json()\n",
    "\n",
    "# print(ead_county_data['Avg_EDA_in'])"
   ]
  },
  {
   "cell_type": "markdown",
   "metadata": {
    "slideshow": {
     "slide_type": "subslide"
    }
   },
   "source": [
    "Now we can use the `fmap` from earlier, but add the magical `folium.Choropleth()` function to create our colored map."
   ]
  },
  {
   "cell_type": "code",
   "execution_count": null,
   "metadata": {
    "slideshow": {
     "slide_type": "subslide"
    }
   },
   "outputs": [],
   "source": [
    "fcmap = folium.Map(location=[y_center,x_center], \n",
    "                    tiles='cartodbpositron',\n",
    "                    zoom_start=6,\n",
    "                    control_scale=True)"
   ]
  },
  {
   "cell_type": "code",
   "execution_count": null,
   "metadata": {
    "slideshow": {
     "slide_type": "subslide"
    }
   },
   "outputs": [],
   "source": [
    "state_geo = \"./data/ead_county.geojson\"\n",
    "state_data = ead_county_data"
   ]
  },
  {
   "cell_type": "markdown",
   "metadata": {
    "slideshow": {
     "slide_type": "slide"
    }
   },
   "source": [
    "### folium.Choropleth requires these parameters:\n",
    "  - geo_data = the geojson (ex. ead_county_data.geojson)\n",
    "  - name = what the name of the webpage is (ex. California's Economically Distressed Area Index)\n",
    "  - data = what the table data is (ex. ead_county_data)\n",
    "  - columns = what columns to use (ex. 'geoid', 'Avg_EDA_in')\n",
    "  - key_on = what to show on click (ex. 'feature.id')\n",
    "  - legend_name = the name for the legend (ex. Average EDA index in County)"
   ]
  },
  {
   "cell_type": "code",
   "execution_count": 21,
   "metadata": {
    "slideshow": {
     "slide_type": "subslide"
    }
   },
   "outputs": [
    {
     "data": {
      "text/plain": [
       "<folium.features.Choropleth at 0x7f65e8d5dba8>"
      ]
     },
     "execution_count": 21,
     "metadata": {},
     "output_type": "execute_result"
    }
   ],
   "source": [
    "fmap_c = folium.Map(location=[y_center,x_center], \n",
    "                    tiles='cartodbpositron',\n",
    "                    zoom_start=6,\n",
    "                    control_scale=True)\n",
    "\n",
    "folium.Choropleth(\n",
    "    geo_data=ead_county_data,\n",
    "    name=\"California's Economically Distressed Area Index\",\n",
    "    data=ead_county_data,\n",
    "    columns=['geoid', 'Avg_EDA_in'],\n",
    "    key_on='feature.id',\n",
    "    fill_color='YlGn',\n",
    "    fill_opacity=0.7,\n",
    "    line_opacity=0.2,\n",
    "#     smooth_factor=1.0,\n",
    "#     threshold_scale=[1, 2, 3, 4, 5],\n",
    "    legend_name= 'Average EDA index in County').add_to(fmap_c)"
   ]
  },
  {
   "cell_type": "code",
   "execution_count": null,
   "metadata": {
    "scrolled": true,
    "slideshow": {
     "slide_type": "subslide"
    }
   },
   "outputs": [],
   "source": [
    "fmap_c"
   ]
  },
  {
   "cell_type": "code",
   "execution_count": null,
   "metadata": {
    "scrolled": true,
    "slideshow": {
     "slide_type": "subslide"
    }
   },
   "outputs": [],
   "source": [
    "# save our map\n",
    "outfp = \"results/CA_EDA_map_fmap_c.html\"\n",
    "fmap_c.save(outfp)"
   ]
  },
  {
   "cell_type": "markdown",
   "metadata": {
    "slideshow": {
     "slide_type": "slide"
    }
   },
   "source": [
    "## Adding tooltips"
   ]
  },
  {
   "cell_type": "code",
   "execution_count": null,
   "metadata": {
    "slideshow": {
     "slide_type": "subslide"
    }
   },
   "outputs": [],
   "source": [
    "for i in range(len(ead_county_data)):\n",
    "    gs = folium.GeoJson(ead_county_data.iloc[i:i+1])\n",
    "    label = '{}: {}% AVG EDA'.format(\n",
    "        ead_county_data['NAME'][i], (ead_county_data['Avg_EDA_in'][i]))\n",
    "    folium.Popup(label).add_to(gs)\n",
    "    gs.add_to(fmap_c)"
   ]
  },
  {
   "cell_type": "code",
   "execution_count": null,
   "metadata": {
    "slideshow": {
     "slide_type": "subslide"
    }
   },
   "outputs": [],
   "source": [
    "outfp = \"results/CA_EDA_map_fmap_c.html\"\n",
    "fmap_c.save(outfp)"
   ]
  },
  {
   "cell_type": "markdown",
   "metadata": {
    "slideshow": {
     "slide_type": "slide"
    }
   },
   "source": [
    "## Congratulations! You are done!!"
   ]
  },
  {
   "cell_type": "code",
   "execution_count": null,
   "metadata": {
    "scrolled": true
   },
   "outputs": [],
   "source": [
    "fmap_c"
   ]
  },
  {
   "cell_type": "markdown",
   "metadata": {},
   "source": [
    "### Potential Solution #2"
   ]
  },
  {
   "cell_type": "code",
   "execution_count": 22,
   "metadata": {},
   "outputs": [
    {
     "data": {
      "text/plain": [
       "<folium.features.GeoJson at 0x7f65f210c3c8>"
      ]
     },
     "execution_count": 22,
     "metadata": {},
     "output_type": "execute_result"
    }
   ],
   "source": [
    "folium.features.GeoJson(ead_county_data,  name='Labels',\n",
    "               style_function=lambda x: {'color':'transparent','fillColor':'transparent','weight':0,'line_opacity':0},\n",
    "                tooltip=folium.features.GeoJsonTooltip(fields=['Avg_EDA_in'],\n",
    "                                              aliases = ['Avg_EDA_in'],\n",
    "                                              labels=True,\n",
    "                                              sticky=False\n",
    "                                             )\n",
    "                       ).add_to(fmap_c)\n"
   ]
  },
  {
   "cell_type": "code",
   "execution_count": 23,
   "metadata": {},
   "outputs": [],
   "source": [
    "outfp = \"results/CA_EDA_map_fmap_c_final.html\"\n",
    "fmap_c.save(outfp)"
   ]
  }
 ],
 "metadata": {
  "celltoolbar": "Slideshow",
  "kernelspec": {
   "display_name": "Python 3",
   "language": "python",
   "name": "python3"
  },
  "language_info": {
   "codemirror_mode": {
    "name": "ipython",
    "version": 3
   },
   "file_extension": ".py",
   "mimetype": "text/x-python",
   "name": "python",
   "nbconvert_exporter": "python",
   "pygments_lexer": "ipython3",
   "version": "3.7.3"
  },
  "toc": {
   "base_numbering": 1,
   "nav_menu": {},
   "number_sections": true,
   "sideBar": true,
   "skip_h1_title": true,
   "title_cell": "Table of Contents",
   "title_sidebar": "Contents",
   "toc_cell": true,
   "toc_position": {},
   "toc_section_display": true,
   "toc_window_display": false
  }
 },
 "nbformat": 4,
 "nbformat_minor": 2
}
