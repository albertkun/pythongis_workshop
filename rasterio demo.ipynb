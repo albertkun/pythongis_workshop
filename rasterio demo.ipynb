{
 "cells": [
  {
   "cell_type": "code",
   "execution_count": null,
   "metadata": {},
   "outputs": [],
   "source": [
    "import rasterio\n",
    "import numpy as np\n",
    "import matplotlib.pyplot as plt"
   ]
  },
  {
   "cell_type": "code",
   "execution_count": null,
   "metadata": {},
   "outputs": [],
   "source": [
    "with rasterio.open(\"./la_coast.tif\", \"r\") as raster:\n",
    "    \n",
    "    left,bottom,right,top = raster.bounds\n",
    "    height,width = raster.shape\n",
    "    x_ld = np.linspace(left,right, width)\n",
    "    y_ld = np.linspace(top,bottom,height)\n",
    "    x,y = np.meshgrid(x_ld,y_ld)http://localhost:8888/notebooks/rasterio%20demo.ipynb#\n",
    "    z = raster.read()[0]\n",
    "    highest_point = int(np.max(z))\n",
    "    lowest_point = int(np.min(z))\n",
    "    colors = range(lowest_point,highest_point,20)    \n",
    "    plt.contourf(x,y,z,colors,cmap=\"summer\")\n",
    "    plt.colorbar().set_label(\"altitude\")"
   ]
  }
 ],
 "metadata": {
  "kernelspec": {
   "display_name": "Python 3",
   "language": "python",
   "name": "python3"
  },
  "language_info": {
   "codemirror_mode": {
    "name": "ipython",
    "version": 3
   },
   "file_extension": ".py",
   "mimetype": "text/x-python",
   "name": "python",
   "nbconvert_exporter": "python",
   "pygments_lexer": "ipython3",
   "version": "3.7.3"
  }
 },
 "nbformat": 4,
 "nbformat_minor": 2
}
