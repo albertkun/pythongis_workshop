{
 "cells": [
  {
   "cell_type": "markdown",
   "metadata": {
    "toc": true
   },
   "source": [
    "<h1>Table of Contents<span class=\"tocSkip\"></span></h1>\n",
    "<div class=\"toc\"><ul class=\"toc-item\"><li><span><a href=\"#Spatial-Joining-to-Counties\" data-toc-modified-id=\"Spatial-Joining-to-Counties-1\"><span class=\"toc-item-num\">1&nbsp;&nbsp;</span>Spatial Joining to Counties</a></span></li><li><span><a href=\"#Creating-a-Histogram-Map-with-Folium\" data-toc-modified-id=\"Creating-a-Histogram-Map-with-Folium-2\"><span class=\"toc-item-num\">2&nbsp;&nbsp;</span>Creating a Histogram Map with Folium</a></span></li><li><span><a href=\"#Saving/Sharing-our-Map\" data-toc-modified-id=\"Saving/Sharing-our-Map-3\"><span class=\"toc-item-num\">3&nbsp;&nbsp;</span>Saving/Sharing our Map</a></span></li><li><span><a href=\"#Automating-Folium-map-creation\" data-toc-modified-id=\"Automating-Folium-map-creation-4\"><span class=\"toc-item-num\">4&nbsp;&nbsp;</span>Automating Folium map creation</a></span></li></ul></div>"
   ]
  },
  {
   "cell_type": "markdown",
   "metadata": {},
   "source": [
    "# Going Folium Circle"
   ]
  },
  {
   "cell_type": "markdown",
   "metadata": {},
   "source": [
    "## Spatial Joining to Counties"
   ]
  },
  {
   "cell_type": "markdown",
   "metadata": {},
   "source": [
    "`Folium`'s capacity to handle content is limited by your web browser, so creating a 8,000 polygon map with our EnviroScreen data is probably not a good idea! One solution to this is to aggregate the data into bigger geographies, in this case __counties__."
   ]
  },
  {
   "cell_type": "code",
   "execution_count": null,
   "metadata": {},
   "outputs": [],
   "source": []
  },
  {
   "cell_type": "markdown",
   "metadata": {},
   "source": [
    "## Creating a Histogram Map with Folium"
   ]
  },
  {
   "cell_type": "markdown",
   "metadata": {},
   "source": [
    "## Saving/Sharing our Map "
   ]
  },
  {
   "cell_type": "markdown",
   "metadata": {},
   "source": [
    "## Automating Folium map creation "
   ]
  }
 ],
 "metadata": {
  "kernelspec": {
   "display_name": "Python 3",
   "language": "python",
   "name": "python3"
  },
  "language_info": {
   "codemirror_mode": {
    "name": "ipython",
    "version": 3
   },
   "file_extension": ".py",
   "mimetype": "text/x-python",
   "name": "python",
   "nbconvert_exporter": "python",
   "pygments_lexer": "ipython3",
   "version": "3.7.3"
  },
  "toc": {
   "base_numbering": 1,
   "nav_menu": {},
   "number_sections": true,
   "sideBar": true,
   "skip_h1_title": true,
   "title_cell": "Table of Contents",
   "title_sidebar": "Contents",
   "toc_cell": true,
   "toc_position": {},
   "toc_section_display": true,
   "toc_window_display": false
  }
 },
 "nbformat": 4,
 "nbformat_minor": 2
}
