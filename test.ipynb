{
  "cells": [
    {
      "metadata": {
        "trusted": true
      },
      "cell_type": "code",
      "source": "# !pip install geopandas\n\n!pip install pyproj\nimport geopandas as gpd\nfp = \"./data/shapefiles/Metro_Bus_Lines.shp\"\ndata = gpd.read_file(fp)\nprint(data['geometry'].head())\nprint(data.crs)\ndata = data.to_crs(epsg=\"3879\")\n",
      "execution_count": null,
      "outputs": [
        {
          "output_type": "stream",
          "text": "Requirement already satisfied: pyproj in /home/nbuser/anaconda3_501/lib/python3.6/site-packages (2.1.3)\r\n",
          "name": "stdout"
        }
      ]
    }
  ],
  "metadata": {
    "kernelspec": {
      "name": "python36",
      "display_name": "Python 3.6",
      "language": "python"
    },
    "language_info": {
      "mimetype": "text/x-python",
      "nbconvert_exporter": "python",
      "name": "python",
      "pygments_lexer": "ipython3",
      "version": "3.6.6",
      "file_extension": ".py",
      "codemirror_mode": {
        "version": 3,
        "name": "ipython"
      }
    }
  },
  "nbformat": 4,
  "nbformat_minor": 1
}